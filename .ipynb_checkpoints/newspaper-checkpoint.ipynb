{
 "cells": [
  {
   "cell_type": "markdown",
   "metadata": {},
   "source": [
    "# Extract from Webpage"
   ]
  },
  {
   "cell_type": "code",
   "execution_count": 1,
   "metadata": {},
   "outputs": [],
   "source": [
    "import re \n",
    "from collections import Counter\n",
    "\n",
    "# Major cities\n",
    "cities = ['KLIA', 'Tokyo', 'London', 'New York', 'Seoul', 'Los Angeles']\n",
    "sum = []\n",
    "\n",
    "# Import list stop word\n",
    "stopWord = re.findall (r'\\w+', open ('stopWord.txt').read().lower())\n",
    "\n",
    "# Arrays of filtered words from all cities\n",
    "allFiltered = []\n",
    "\n",
    "\n",
    "for city in cities:\n",
    "    \n",
    "#     Read files from each city\n",
    "    if(city == 'KLIA'):\n",
    "        continue\n",
    "    textFile = \"Newspaper/\" + city + \".txt\"\n",
    "    words = (re.findall (r'\\w+', open (textFile).read().lower()))\n",
    "    \n",
    "#     Array of filtered stop words\n",
    "    filter = []\n",
    "    \n",
    "#     Filter stop words from file\n",
    "    for word in words:\n",
    "        if word not in stopWord:\n",
    "            filter.append(word)\n",
    "    \n",
    "\n",
    "#     Add filtered array to allFiltered\n",
    "    allFiltered.append(filter)\n",
    "    \n",
    "#     Calculate the no of words in each city\n",
    "    sum.append(len(filter))\n",
    "    \n",
    "#     Output file\n",
    "    text_file = open(\"Output/\" + city + \"-output.txt\", \"w\")\n",
    "    \n",
    "#     Count word frequency\n",
    "    count = Counter(filter).most_common()\n",
    "    \n",
    "#     Add data in text file\n",
    "    for word in count:\n",
    "        x = \"\".join(str(word))\n",
    "        text_file.write(x)\n",
    "        \n",
    "    text_file.close()\n",
    "    "
   ]
  },
  {
   "cell_type": "markdown",
   "metadata": {},
   "source": [
    "# Line Graph"
   ]
  },
  {
   "cell_type": "code",
   "execution_count": 2,
   "metadata": {},
   "outputs": [
    {
     "name": "stderr",
     "output_type": "stream",
     "text": [
      "C:\\Users\\itsaf\\Anaconda3\\lib\\site-packages\\IPython\\core\\display.py:689: UserWarning:\n",
      "\n",
      "Consider using IPython.display.IFrame instead\n",
      "\n"
     ]
    },
    {
     "data": {
      "text/html": [
       "<iframe id=\"igraph\" scrolling=\"no\" style=\"border:none;\" seamless=\"seamless\" src=\"https://plot.ly/~afrieirham/4.embed\" height=\"525px\" width=\"100%\"></iframe>"
      ],
      "text/plain": [
       "<chart_studio.tools.PlotlyDisplay object>"
      ]
     },
     "execution_count": 2,
     "metadata": {},
     "output_type": "execute_result"
    }
   ],
   "source": [
    "# pip install plotly\n",
    "import plotly \n",
    "plotly.tools.set_credentials_file(username='afrieirham', api_key='kXhI0cUcKkJhaUcwaLUW')\n",
    "\n",
    "import plotly.plotly as py\n",
    "import plotly.graph_objs as go\n",
    "\n",
    "# Copy from cities array and remove KLIA from list\n",
    "x = cities.copy()\n",
    "x.pop(0)\n",
    "\n",
    "\n",
    "trace = go.Scatter(x=x, y=sum)\n",
    "data = [trace]\n",
    "\n",
    "py.iplot(data, filename = 'word-count')"
   ]
  },
  {
   "cell_type": "markdown",
   "metadata": {},
   "source": [
    "# Categorized Words"
   ]
  },
  {
   "cell_type": "code",
   "execution_count": 3,
   "metadata": {},
   "outputs": [],
   "source": [
    "import re\n",
    "\n",
    "# Import +ve and -ve words from txt file\n",
    "goodfile = open(\"words/goodwords.txt\",\"r\")\n",
    "good_words = tuple(goodfile.read().split(\",\"))\n",
    "badfile = open(\"words/badwords.txt\",\"r\")\n",
    "bad_words = tuple(badfile.read().split(\",\"))\n",
    "goodfile.close()\n",
    "badfile.close()\n",
    "\n",
    "\n",
    "positive_data = []\n",
    "negative_data = []\n",
    "neutral_data = []\n",
    "score_data = []\n",
    "\n",
    "# regular expression\n",
    "regex = r\"\\('(\\w*)', (\\d*)\\)\"\n",
    "\n",
    "\n",
    "# x is arrays of cities w/o KLIA\n",
    "for i in x:\n",
    "    \n",
    "#     Import filtered word from each city\n",
    "    name =\"Output/\" + i + \"-output.txt\"\n",
    "    o = open(name,\"r\")\n",
    "    raw = o.read()\n",
    "    \n",
    "    matches = re.findall(regex,raw)\n",
    "    \n",
    "#     Counter\n",
    "    positive = 0\n",
    "    negative = 0\n",
    "    neutral = 0\n",
    "    score = 0\n",
    "    \n",
    "     \n",
    "    for k in matches:\n",
    "        \n",
    "        if k[0] in good_words:\n",
    "            positive += int(k[1],10)\n",
    "            score += float(k[1]) / len(good_words)\n",
    "            \n",
    "        elif k[0] in bad_words:\n",
    "            negative += int(k[1],10)\n",
    "            score -= float(k[1]) / len(bad_words)\n",
    "            \n",
    "        else:\n",
    "            neutral += int(k[1],10)\n",
    "    \n",
    "    \n",
    "    positive_data.append(positive)\n",
    "    negative_data.append(negative)\n",
    "    neutral_data.append(neutral)\n",
    "    score_data.append(score)\n",
    "    o.close()\n",
    "\n",
    "# Save processed data into txt file\n",
    "w = open(\"words/categorized.txt\",\"w+\")\n",
    "w.write(str(x)+\"\\n\")\n",
    "w.write(str(tuple(positive_data))+\"\\n\")\n",
    "w.write(str(tuple(negative_data))+\"\\n\")\n",
    "w.write(str(tuple(neutral_data))+\"\\n\")\n",
    "w.write(str(tuple(score_data)))\n",
    "\n",
    "w.close()"
   ]
  },
  {
   "cell_type": "markdown",
   "metadata": {},
   "source": []
  },
  {
   "cell_type": "code",
   "execution_count": null,
   "metadata": {},
   "outputs": [],
   "source": []
  },
  {
   "cell_type": "markdown",
   "metadata": {},
   "source": [
    "# Histograph"
   ]
  },
  {
   "cell_type": "code",
   "execution_count": null,
   "metadata": {},
   "outputs": [
    {
     "name": "stdout",
     "output_type": "stream",
     "text": [
      " * Serving Flask app \"__main__\" (lazy loading)\n",
      " * Environment: production\n",
      "   WARNING: Do not use the development server in a production environment.\n",
      "   Use a production WSGI server instead.\n",
      " * Debug mode: off\n"
     ]
    },
    {
     "name": "stderr",
     "output_type": "stream",
     "text": [
      " * Running on http://127.0.0.1:8050/ (Press CTRL+C to quit)\n"
     ]
    }
   ],
   "source": [
    "# pip install dash\n",
    "import dash\n",
    "import dash_core_components as dcc\n",
    "import dash_html_components as html\n",
    "\n",
    "external_stylesheets = ['https://codepen.io/chriddyp/pen/bWLwgP.css']\n",
    "\n",
    "positive = positive_data\n",
    "negative = negative_data\n",
    "neutral = neutral_data\n",
    "\n",
    "app = dash.Dash(__name__, external_stylesheets=external_stylesheets)\n",
    "\n",
    "colors = {\n",
    "    'background': '#111111',\n",
    "    'text': '#7FDBFF'\n",
    "}\n",
    "\n",
    "app.layout = html.Div(style={'backgroundColor': colors['background']}, children=[\n",
    "    html.H1(\n",
    "        children='Words in Webpages',\n",
    "        style={\n",
    "            'textAlign': 'center',\n",
    "            'color': colors['text']\n",
    "        }\n",
    "    ),\n",
    "\n",
    "    html.Div(children='Positive, Negative, Neutral words in webpage.', style={\n",
    "        'textAlign': 'center',\n",
    "        'color': colors['text']\n",
    "    }),\n",
    "\n",
    "    dcc.Graph(\n",
    "        id='histograph',\n",
    "        \n",
    "################################################## Change below this ##########################################################\n",
    "        figure={\n",
    "            'data': [\n",
    "                {'x': x, 'y': positive, 'type': 'bar', 'name': 'Positive'},\n",
    "                {'x': x, 'y': negative, 'type': 'bar', 'name': 'Negative'},\n",
    "#                 {'x': x, 'y': neutral, 'type': 'bar', 'name': 'Negative'} #uncomment this to include neutral  words\n",
    "            ],\n",
    "################################################## Change above this ##########################################################\n",
    "            'layout': {\n",
    "                'plot_bgcolor': colors['background'],\n",
    "                'paper_bgcolor': colors['background'],\n",
    "                'font': {\n",
    "                    'color': colors['text']\n",
    "                }\n",
    "            }\n",
    "        }\n",
    "    )\n",
    "])\n",
    "\n",
    "if __name__ == '__main__':\n",
    "    app.run_server(debug=False)"
   ]
  },
  {
   "cell_type": "code",
   "execution_count": null,
   "metadata": {},
   "outputs": [],
   "source": [
    "# Click Running on http://127.0.0.1:8050/ (Press CTRL+C to quit) above"
   ]
  }
 ],
 "metadata": {
  "kernelspec": {
   "display_name": "Python 3",
   "language": "python",
   "name": "python3"
  },
  "language_info": {
   "codemirror_mode": {
    "name": "ipython",
    "version": 3
   },
   "file_extension": ".py",
   "mimetype": "text/x-python",
   "name": "python",
   "nbconvert_exporter": "python",
   "pygments_lexer": "ipython3",
   "version": "3.7.3"
  }
 },
 "nbformat": 4,
 "nbformat_minor": 2
}
